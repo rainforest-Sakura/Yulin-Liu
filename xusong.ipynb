{
 "cells": [
  {
   "cell_type": "markdown",
   "metadata": {},
   "source": [
    "许嵩快要发新歌了，想康康新歌的评论以及歌迷的心情指数，先用雅俗共赏来试下水\n",
    "\n",
    "第一步：爬评论"
   ]
  },
  {
   "cell_type": "code",
   "execution_count": 71,
   "metadata": {},
   "outputs": [
    {
     "name": "stdout",
     "output_type": "stream",
     "text": [
      "over\n"
     ]
    }
   ],
   "source": [
    "import requests\n",
    "import re \n",
    "total=[]\n",
    "#for i in range(15000):            #note：actually measurement,150 comments each page ，get all the comments\n",
    "#for i in range(14900，15000):     #using this，you can see the newest comment~\n",
    "for i in range(15):          #record 220w comments will cost 4h,so....\n",
    "    j='%d'%(i*50)\n",
    "    url='http://music.163.com/api/v1/resource/comments/R_SO_4_411214279?limit=50&offset='+j\n",
    "    strhtml=requests.get(url)\n",
    "    line=strhtml.text\n",
    "    reChinese = re.compile('[\\u4e00-\\u9fa5。：“”，？、 / ]+')    # invoid  destroying the original structure\n",
    "    name = reChinese.findall(line)\n",
    "    rank=0\n",
    "    name2=[]\n",
    "    while rank<len(name):\n",
    "         if (name[rank] not in name2) & (len(name[rank])>2) & ('帐号已注销'!= name[rank]):\n",
    "             name2.append(name[rank])\n",
    "         else:\n",
    "             rank+=1\n",
    "    total=total+name2\n",
    "#print(total)\n",
    "file = open('E:\\\\song.txt','w')\n",
    "for i in range(len(total)):\n",
    "    a='第'+'%d'%(i+1)+'条评论:   '+total[i]+'\\n'*2\n",
    "    file.write(a)\n",
    "file.close()\n",
    "print('over')"
   ]
  },
  {
   "cell_type": "markdown",
   "metadata": {},
   "source": [
    "第二步：画一个词云"
   ]
  },
  {
   "cell_type": "code",
   "execution_count": 74,
   "metadata": {},
   "outputs": [
    {
     "name": "stdout",
     "output_type": "stream",
     "text": [
      "over\n"
     ]
    }
   ],
   "source": [
    "import requests\n",
    "import re \n",
    "total=[]\n",
    "#for i in range(15000):            #note：actually measurement,150 comments each page ，get all the comments\n",
    "#for i in range(14900，15000):     #using this，you can see the newest comment~\n",
    "for i in range(15):          #record 220w comments will cost 4h,so....\n",
    "    j='%d'%(i*50)\n",
    "    url='http://music.163.com/api/v1/resource/comments/R_SO_4_411214279?limit=50&offset='+j\n",
    "    strhtml=requests.get(url)\n",
    "    line=strhtml.text\n",
    "    reChinese = re.compile('[\\u4e00-\\u9fa5。：“”，？、 / ]+')    # invoid  destroying the original structure\n",
    "    name = reChinese.findall(line)\n",
    "    rank=0\n",
    "    name2=[]\n",
    "    while rank<len(name):\n",
    "         if (name[rank] not in name2) & (len(name[rank])>2) & ('帐号已注销'!= name[rank]):\n",
    "             name2.append(name[rank])\n",
    "         else:\n",
    "             rank+=1\n",
    "    total=total+name2\n",
    "#print(total)\n",
    "file = open('E:\\\\song11.txt','w')\n",
    "for i in range(len(total)):\n",
    "    a=total[i]\n",
    "    file.write(a)\n",
    "file.close()\n",
    "print('over')"
   ]
  },
  {
   "cell_type": "code",
   "execution_count": null,
   "metadata": {},
   "outputs": [],
   "source": [
    "import matplotlib.pyplot as plt\n",
    "#import pickle\n",
    "from wordcloud import WordCloud,STOPWORDS,ImageColorGenerator\n",
    "import jieba\n",
    "filename = \"E:\\\\song11.txt\"\n",
    "with open(filename) as f:\n",
    "    mytext = f.read()\n",
    "mytext = \" \".join(jieba.cut(mytext))         #进行中文分词\n",
    "backgroud_Image = plt.imread('E:\\\\songa.jpg')\n",
    "wc = WordCloud( background_color = 'white',  # 设置背景颜色\n",
    "                mask = backgroud_Image,      # 设置背景图片\n",
    "                max_words = 4000,            # 设置最大现实的字数\n",
    "                stopwords = '许嵩',       # 设置停用词\n",
    "                font_path='C:\\\\Windows\\\\Fonts\\\\SIMYOU.TTF', # 设置字体格式，如不设置显示不了中文\n",
    "                max_font_size = 800,          # 设置字体最大值\n",
    "                color_func=None,             #设置关键字的字体颜色\n",
    "                random_state = 42,           # 设置有多少种随机生成状态，即有多少种配色方案\n",
    "                ).generate(mytext)\n",
    "plt.imshow(wc)\n",
    "image_colors = ImageColorGenerator(backgroud_Image)\n",
    "wc.recolor(color_func = image_colors)\n",
    "plt.imshow(wc)\n",
    "plt.savefig('E:\\\\songfinall.png')\n",
    "plt.axis('off')\n",
    "plt.show()\n",
    "plt.savefig('E:\\\\songfinall2.png')\n",
    "\n",
    "\n"
   ]
  },
  {
   "cell_type": "markdown",
   "metadata": {},
   "source": [
    "3.情感分析  这里要snownlp库  哪天有空传过来 图片也一起导过去"
   ]
  }
 ],
 "metadata": {
  "kernelspec": {
   "display_name": "Python 3",
   "language": "python",
   "name": "python3"
  },
  "language_info": {
   "codemirror_mode": {
    "name": "ipython",
    "version": 3
   },
   "file_extension": ".py",
   "mimetype": "text/x-python",
   "name": "python",
   "nbconvert_exporter": "python",
   "pygments_lexer": "ipython3",
   "version": "3.6.4"
  }
 },
 "nbformat": 4,
 "nbformat_minor": 2
}
